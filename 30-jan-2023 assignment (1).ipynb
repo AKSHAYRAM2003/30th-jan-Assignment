{
 "cells": [
  {
   "cell_type": "markdown",
   "id": "67d37bd6-f139-449d-a601-526e6ec974d7",
   "metadata": {},
   "source": [
    "#PYTHON ASSIGNMENT_______\n",
    "                                                        Date:30/jan/2023"
   ]
  },
  {
   "cell_type": "raw",
   "id": "7b0ae39c-b867-4ea5-bc00-b6a3a1cb66b2",
   "metadata": {},
   "source": [
    "1.write a python program to accept percentage from user display the grade according to the  following criteria\n",
    "\n",
    "marks                  garde\n",
    ">90                      A\n",
    ">80and <=90              B\n",
    ">=60and <=80             C\n",
    "bellow 60                D"
   ]
  },
  {
   "cell_type": "code",
   "execution_count": 32,
   "id": "7b01a323-c484-4bf8-bca8-80a6f84ae6c7",
   "metadata": {},
   "outputs": [
    {
     "name": "stdin",
     "output_type": "stream",
     "text": [
      "Enter your percentage:  62\n"
     ]
    },
    {
     "name": "stdout",
     "output_type": "stream",
     "text": [
      "grade:B\n"
     ]
    }
   ],
   "source": [
    "percentage = float(input(\"Enter your percentage: \"))\n",
    "\n",
    "if percentage > 90:\n",
    "        grde = \"A\"\n",
    "elif percentage > 80 and percentage <= 90:\n",
    "    grade = \"B\"\n",
    "elif percentage >=60 and percentage <=80:\n",
    "    garde = \"C\"\n",
    "else:\n",
    "        garde = \"D\"\n",
    "        \n",
    "        \n",
    "print(\"grade:\" +grade)\n",
    "            "
   ]
  },
  {
   "cell_type": "raw",
   "id": "ce4ae7e8-df36-4bd6-a7d6-333e000b7f61",
   "metadata": {},
   "source": [
    "2.write a program to accept the cost price of a bike and display the road tax to be paid according to the following \n",
    "criteria:\n",
    "\n",
    "Tax                Cost Price(in Rs)\n",
    "\n",
    "15%.               >100000\n",
    "10%                >50000 and <= 100000\n",
    "5%.                <= 50000"
   ]
  },
  {
   "cell_type": "code",
   "execution_count": 4,
   "id": "0391b90e-8e2b-4fac-a436-d1554c9f914d",
   "metadata": {},
   "outputs": [
    {
     "name": "stdin",
     "output_type": "stream",
     "text": [
      "enter the cost price of a bike 50000\n"
     ]
    },
    {
     "name": "stdout",
     "output_type": "stream",
     "text": [
      "the road tax to be paid is rs.2500.00\n"
     ]
    }
   ],
   "source": [
    "cost_price = float(input(\"enter the cost price of a bike\"))\n",
    "\n",
    "if cost_price >100000:\n",
    "    road_tax = cost_price*0.15\n",
    "elif cost_price > 50000:\n",
    "    road_tax = cost_price *0.1\n",
    "else:\n",
    "    road_tax = cost_price *0.05\n",
    "print(\"the road tax to be paid is rs.{:.2f}\".format(road_tax))    "
   ]
  },
  {
   "cell_type": "raw",
   "id": "dc222b7f-d804-4cc7-b54f-e8db5e44ce4d",
   "metadata": {},
   "source": [
    "3.Accept any city from the user and display monuments of that city\n",
    "\n",
    "city               monuments\n",
    "\n",
    "Delhi              Red fort\n",
    "Agra               Taj mahal\n",
    "Jaipur             jal mahal"
   ]
  },
  {
   "cell_type": "code",
   "execution_count": 27,
   "id": "729f04a1-758a-4397-bdb9-e75c66b38646",
   "metadata": {},
   "outputs": [
    {
     "name": "stdin",
     "output_type": "stream",
     "text": [
      "enter the name of the city jaipur\n"
     ]
    },
    {
     "name": "stdout",
     "output_type": "stream",
     "text": [
      "Monument for jaipur is Jal_mahal\n"
     ]
    }
   ],
   "source": [
    "city = str(input(\"enter the name of the city\"))\n",
    "\n",
    "if city == \"delhi\":\n",
    "    monument = \"Red_fort\"\n",
    "elif city == \"Agra\":\n",
    "    monument =\"Taj_mahal\"\n",
    "else:\n",
    "    city ==\"jaipur\"\n",
    "    monument = \"Jal_mahal\"\n",
    "   \n",
    "    print(\"Monument for \" + city + \" is \" + monument)"
   ]
  },
  {
   "cell_type": "raw",
   "id": "8806973e-90d3-420c-9690-8db2c54c8082",
   "metadata": {},
   "source": [
    "4.check how many times a given number can be  divided by 3 before it is less than or equal to 10"
   ]
  },
  {
   "cell_type": "code",
   "execution_count": 33,
   "id": "e36f4413-5abe-4a78-b3a0-bcfaf3126e4f",
   "metadata": {},
   "outputs": [
    {
     "name": "stdin",
     "output_type": "stream",
     "text": [
      "Enter a number:  6\n"
     ]
    },
    {
     "name": "stdout",
     "output_type": "stream",
     "text": [
      "The given number can be divided by 3 0 times before it is less than or equal to 10.\n"
     ]
    }
   ],
   "source": [
    "number = int(input(\"Enter a number: \"))\n",
    "count = 0\n",
    "\n",
    "while number > 10:\n",
    "    number = number // 3\n",
    "    count += 1\n",
    "\n",
    "print(\"The given number can be divided by 3\", count, \"times before it is less than or equal to 10.\")\n"
   ]
  },
  {
   "cell_type": "raw",
   "id": "2842bf14-7c63-463b-8322-3c9034b68021",
   "metadata": {},
   "source": [
    "5.why and when to use while loop in python give a detailed discription with example "
   ]
  },
  {
   "cell_type": "code",
   "execution_count": null,
   "id": "d7e7cc8a-3bc3-47c9-9c2d-2136ca250051",
   "metadata": {},
   "outputs": [],
   "source": [
    "A while loop in Python is used to execute a block of code repeatedly as long as a specified condition is true. The condition is checked at the beginning of each iteration, and the loop continues until the condition is no longer true\n",
    "\n",
    "#Example for while\n",
    "number = 1\n",
    "\n",
    "while number <= 10:\n",
    "    print(number)\n",
    "    number += 1\n",
    "    \n",
    "When you need to repeat a block of code until a specific condition is met.\n",
    "When you don't know the exact number of iterations in advance, and need to keep looping until a condition is satisfied.\n",
    "When you're working with input from a user or an external source, and need to keep prompting for input until a certain condition is met"
   ]
  },
  {
   "cell_type": "raw",
   "id": "977350f9-1985-4da2-95a5-47e548270b69",
   "metadata": {},
   "source": [
    "6.use nested while loop to print 3 diffrent pattern"
   ]
  },
  {
   "cell_type": "code",
   "execution_count": 35,
   "id": "be6c2fe2-005f-4adb-b0f8-a63918415110",
   "metadata": {},
   "outputs": [
    {
     "name": "stdout",
     "output_type": "stream",
     "text": [
      "*\n",
      "**\n",
      "***\n",
      "****\n",
      "*****\n"
     ]
    }
   ],
   "source": [
    "#pattern 1\n",
    "\n",
    "row = 1\n",
    "\n",
    "while row <= 5:\n",
    "    column = 1\n",
    "    while column <= row:\n",
    "        print('*', end='')\n",
    "        column += 1\n",
    "    print()\n",
    "    row += 1\n"
   ]
  },
  {
   "cell_type": "code",
   "execution_count": 36,
   "id": "2fc5bfad-185b-488f-a32a-67233d328dd9",
   "metadata": {},
   "outputs": [
    {
     "name": "stdout",
     "output_type": "stream",
     "text": [
      "*****\n",
      "****\n",
      "***\n",
      "**\n",
      "*\n"
     ]
    }
   ],
   "source": [
    "#pattern 2\n",
    "\n",
    "row = 5\n",
    "\n",
    "while row >= 1:\n",
    "    column = 1\n",
    "    while column <= row:\n",
    "        print('*', end='')\n",
    "        column += 1\n",
    "    print()\n",
    "    row -= 1\n",
    "\n"
   ]
  },
  {
   "cell_type": "code",
   "execution_count": 37,
   "id": "1d8c9fb2-ff41-4002-bf5d-f4aa658cd37d",
   "metadata": {},
   "outputs": [
    {
     "name": "stdout",
     "output_type": "stream",
     "text": [
      "*****\n",
      "****\n",
      "***\n",
      "**\n",
      "*\n"
     ]
    }
   ],
   "source": [
    "#pattern 3\n",
    "\n",
    "\n"
   ]
  },
  {
   "cell_type": "raw",
   "id": "6fe6060c-4568-4dbb-9577-11deafdfdb47",
   "metadata": {},
   "source": [
    "7.Reverse a while loop to display number from 10 to 1"
   ]
  },
  {
   "cell_type": "code",
   "execution_count": 39,
   "id": "16c2ee55-2033-47f4-9d62-deafed769c83",
   "metadata": {},
   "outputs": [
    {
     "name": "stdout",
     "output_type": "stream",
     "text": [
      "10\n",
      "9\n",
      "8\n",
      "7\n",
      "6\n",
      "5\n",
      "4\n",
      "3\n",
      "2\n",
      "1\n"
     ]
    }
   ],
   "source": [
    "number = 10\n",
    "\n",
    "while number >= 1:\n",
    "    print(number)\n",
    "    number -= 1\n"
   ]
  }
 ],
 "metadata": {
  "kernelspec": {
   "display_name": "Python 3 (ipykernel)",
   "language": "python",
   "name": "python3"
  },
  "language_info": {
   "codemirror_mode": {
    "name": "ipython",
    "version": 3
   },
   "file_extension": ".py",
   "mimetype": "text/x-python",
   "name": "python",
   "nbconvert_exporter": "python",
   "pygments_lexer": "ipython3",
   "version": "3.10.8"
  }
 },
 "nbformat": 4,
 "nbformat_minor": 5
}
